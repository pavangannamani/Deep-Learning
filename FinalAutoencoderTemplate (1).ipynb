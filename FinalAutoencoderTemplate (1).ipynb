{
  "cells": [
    {
      "cell_type": "code",
      "execution_count": 40,
      "metadata": {
        "colab": {
          "base_uri": "https://localhost:8080/",
          "height": 17
        },
        "id": "Kdw7c_71IRBD",
        "outputId": "b58eb614-a44b-4e17-de89-52a032f9be0d"
      },
      "outputs": [
        {
          "output_type": "display_data",
          "data": {
            "text/plain": [
              "<IPython.core.display.HTML object>"
            ],
            "text/html": [
              "<style>.container { width:100% !important; }</style>"
            ]
          },
          "metadata": {}
        }
      ],
      "source": [
        "import numpy as np\n",
        "import pandas as pd\n",
        "import tensorflow\n",
        "from tensorflow import keras\n",
        "from tensorflow.keras import models\n",
        "from tensorflow.keras import layers\n",
        "import seaborn as sns\n",
        "import sklearn\n",
        "from IPython.core.display import display, HTML\n",
        "import matplotlib.pyplot as plt\n",
        "\n",
        "from sklearn.model_selection import train_test_split\n",
        "display(HTML(\"<style>.container { width:100% !important; }</style>\"))"
      ]
    },
    {
      "cell_type": "code",
      "source": [
        "!pip install scikit-plot"
      ],
      "metadata": {
        "colab": {
          "base_uri": "https://localhost:8080/"
        },
        "id": "9ePGBly0TF12",
        "outputId": "c481c40c-5790-4d60-f6cc-e85461f7381b"
      },
      "execution_count": 41,
      "outputs": [
        {
          "output_type": "stream",
          "name": "stdout",
          "text": [
            "Looking in indexes: https://pypi.org/simple, https://us-python.pkg.dev/colab-wheels/public/simple/\n",
            "Requirement already satisfied: scikit-plot in /usr/local/lib/python3.7/dist-packages (0.3.7)\n",
            "Requirement already satisfied: scikit-learn>=0.18 in /usr/local/lib/python3.7/dist-packages (from scikit-plot) (1.0.2)\n",
            "Requirement already satisfied: scipy>=0.9 in /usr/local/lib/python3.7/dist-packages (from scikit-plot) (1.4.1)\n",
            "Requirement already satisfied: matplotlib>=1.4.0 in /usr/local/lib/python3.7/dist-packages (from scikit-plot) (3.2.2)\n",
            "Requirement already satisfied: joblib>=0.10 in /usr/local/lib/python3.7/dist-packages (from scikit-plot) (1.1.0)\n",
            "Requirement already satisfied: pyparsing!=2.0.4,!=2.1.2,!=2.1.6,>=2.0.1 in /usr/local/lib/python3.7/dist-packages (from matplotlib>=1.4.0->scikit-plot) (3.0.9)\n",
            "Requirement already satisfied: numpy>=1.11 in /usr/local/lib/python3.7/dist-packages (from matplotlib>=1.4.0->scikit-plot) (1.21.6)\n",
            "Requirement already satisfied: kiwisolver>=1.0.1 in /usr/local/lib/python3.7/dist-packages (from matplotlib>=1.4.0->scikit-plot) (1.4.3)\n",
            "Requirement already satisfied: python-dateutil>=2.1 in /usr/local/lib/python3.7/dist-packages (from matplotlib>=1.4.0->scikit-plot) (2.8.2)\n",
            "Requirement already satisfied: cycler>=0.10 in /usr/local/lib/python3.7/dist-packages (from matplotlib>=1.4.0->scikit-plot) (0.11.0)\n",
            "Requirement already satisfied: typing-extensions in /usr/local/lib/python3.7/dist-packages (from kiwisolver>=1.0.1->matplotlib>=1.4.0->scikit-plot) (4.1.1)\n",
            "Requirement already satisfied: six>=1.5 in /usr/local/lib/python3.7/dist-packages (from python-dateutil>=2.1->matplotlib>=1.4.0->scikit-plot) (1.15.0)\n",
            "Requirement already satisfied: threadpoolctl>=2.0.0 in /usr/local/lib/python3.7/dist-packages (from scikit-learn>=0.18->scikit-plot) (3.1.0)\n"
          ]
        }
      ]
    },
    {
      "cell_type": "code",
      "source": [
        "import scikitplot"
      ],
      "metadata": {
        "id": "i08CorseTJvn"
      },
      "execution_count": 44,
      "outputs": []
    },
    {
      "cell_type": "code",
      "execution_count": 45,
      "metadata": {
        "colab": {
          "base_uri": "https://localhost:8080/",
          "height": 354
        },
        "id": "_cEFajPgIRBF",
        "outputId": "01260d18-32e9-44a0-faac-b385939cec57"
      },
      "outputs": [
        {
          "output_type": "execute_result",
          "data": {
            "text/plain": [
              "             Date Time  p (mbar)  T (degC)  Tpot (K)  Tdew (degC)  rh (%)  \\\n",
              "0  01.01.2009 00:10:00    996.52     -8.02    265.40        -8.90    93.3   \n",
              "1  01.01.2009 00:20:00    996.57     -8.41    265.01        -9.28    93.4   \n",
              "2  01.01.2009 00:30:00    996.53     -8.51    264.91        -9.31    93.9   \n",
              "3  01.01.2009 00:40:00    996.51     -8.31    265.12        -9.07    94.2   \n",
              "4  01.01.2009 00:50:00    996.51     -8.27    265.15        -9.04    94.1   \n",
              "\n",
              "   VPmax (mbar)  VPact (mbar)  VPdef (mbar)  sh (g/kg)  H2OC (mmol/mol)  \\\n",
              "0          3.33          3.11          0.22       1.94             3.12   \n",
              "1          3.23          3.02          0.21       1.89             3.03   \n",
              "2          3.21          3.01          0.20       1.88             3.02   \n",
              "3          3.26          3.07          0.19       1.92             3.08   \n",
              "4          3.27          3.08          0.19       1.92             3.09   \n",
              "\n",
              "   rho (g/m**3)  wv (m/s)  max. wv (m/s)  wd (deg)  \n",
              "0       1307.75      1.03           1.75     152.3  \n",
              "1       1309.80      0.72           1.50     136.1  \n",
              "2       1310.24      0.19           0.63     171.6  \n",
              "3       1309.19      0.34           0.50     198.0  \n",
              "4       1309.00      0.32           0.63     214.3  "
            ],
            "text/html": [
              "\n",
              "  <div id=\"df-72ab7878-3512-40bc-bdef-0e91cd651c81\">\n",
              "    <div class=\"colab-df-container\">\n",
              "      <div>\n",
              "<style scoped>\n",
              "    .dataframe tbody tr th:only-of-type {\n",
              "        vertical-align: middle;\n",
              "    }\n",
              "\n",
              "    .dataframe tbody tr th {\n",
              "        vertical-align: top;\n",
              "    }\n",
              "\n",
              "    .dataframe thead th {\n",
              "        text-align: right;\n",
              "    }\n",
              "</style>\n",
              "<table border=\"1\" class=\"dataframe\">\n",
              "  <thead>\n",
              "    <tr style=\"text-align: right;\">\n",
              "      <th></th>\n",
              "      <th>Date Time</th>\n",
              "      <th>p (mbar)</th>\n",
              "      <th>T (degC)</th>\n",
              "      <th>Tpot (K)</th>\n",
              "      <th>Tdew (degC)</th>\n",
              "      <th>rh (%)</th>\n",
              "      <th>VPmax (mbar)</th>\n",
              "      <th>VPact (mbar)</th>\n",
              "      <th>VPdef (mbar)</th>\n",
              "      <th>sh (g/kg)</th>\n",
              "      <th>H2OC (mmol/mol)</th>\n",
              "      <th>rho (g/m**3)</th>\n",
              "      <th>wv (m/s)</th>\n",
              "      <th>max. wv (m/s)</th>\n",
              "      <th>wd (deg)</th>\n",
              "    </tr>\n",
              "  </thead>\n",
              "  <tbody>\n",
              "    <tr>\n",
              "      <th>0</th>\n",
              "      <td>01.01.2009 00:10:00</td>\n",
              "      <td>996.52</td>\n",
              "      <td>-8.02</td>\n",
              "      <td>265.40</td>\n",
              "      <td>-8.90</td>\n",
              "      <td>93.3</td>\n",
              "      <td>3.33</td>\n",
              "      <td>3.11</td>\n",
              "      <td>0.22</td>\n",
              "      <td>1.94</td>\n",
              "      <td>3.12</td>\n",
              "      <td>1307.75</td>\n",
              "      <td>1.03</td>\n",
              "      <td>1.75</td>\n",
              "      <td>152.3</td>\n",
              "    </tr>\n",
              "    <tr>\n",
              "      <th>1</th>\n",
              "      <td>01.01.2009 00:20:00</td>\n",
              "      <td>996.57</td>\n",
              "      <td>-8.41</td>\n",
              "      <td>265.01</td>\n",
              "      <td>-9.28</td>\n",
              "      <td>93.4</td>\n",
              "      <td>3.23</td>\n",
              "      <td>3.02</td>\n",
              "      <td>0.21</td>\n",
              "      <td>1.89</td>\n",
              "      <td>3.03</td>\n",
              "      <td>1309.80</td>\n",
              "      <td>0.72</td>\n",
              "      <td>1.50</td>\n",
              "      <td>136.1</td>\n",
              "    </tr>\n",
              "    <tr>\n",
              "      <th>2</th>\n",
              "      <td>01.01.2009 00:30:00</td>\n",
              "      <td>996.53</td>\n",
              "      <td>-8.51</td>\n",
              "      <td>264.91</td>\n",
              "      <td>-9.31</td>\n",
              "      <td>93.9</td>\n",
              "      <td>3.21</td>\n",
              "      <td>3.01</td>\n",
              "      <td>0.20</td>\n",
              "      <td>1.88</td>\n",
              "      <td>3.02</td>\n",
              "      <td>1310.24</td>\n",
              "      <td>0.19</td>\n",
              "      <td>0.63</td>\n",
              "      <td>171.6</td>\n",
              "    </tr>\n",
              "    <tr>\n",
              "      <th>3</th>\n",
              "      <td>01.01.2009 00:40:00</td>\n",
              "      <td>996.51</td>\n",
              "      <td>-8.31</td>\n",
              "      <td>265.12</td>\n",
              "      <td>-9.07</td>\n",
              "      <td>94.2</td>\n",
              "      <td>3.26</td>\n",
              "      <td>3.07</td>\n",
              "      <td>0.19</td>\n",
              "      <td>1.92</td>\n",
              "      <td>3.08</td>\n",
              "      <td>1309.19</td>\n",
              "      <td>0.34</td>\n",
              "      <td>0.50</td>\n",
              "      <td>198.0</td>\n",
              "    </tr>\n",
              "    <tr>\n",
              "      <th>4</th>\n",
              "      <td>01.01.2009 00:50:00</td>\n",
              "      <td>996.51</td>\n",
              "      <td>-8.27</td>\n",
              "      <td>265.15</td>\n",
              "      <td>-9.04</td>\n",
              "      <td>94.1</td>\n",
              "      <td>3.27</td>\n",
              "      <td>3.08</td>\n",
              "      <td>0.19</td>\n",
              "      <td>1.92</td>\n",
              "      <td>3.09</td>\n",
              "      <td>1309.00</td>\n",
              "      <td>0.32</td>\n",
              "      <td>0.63</td>\n",
              "      <td>214.3</td>\n",
              "    </tr>\n",
              "  </tbody>\n",
              "</table>\n",
              "</div>\n",
              "      <button class=\"colab-df-convert\" onclick=\"convertToInteractive('df-72ab7878-3512-40bc-bdef-0e91cd651c81')\"\n",
              "              title=\"Convert this dataframe to an interactive table.\"\n",
              "              style=\"display:none;\">\n",
              "        \n",
              "  <svg xmlns=\"http://www.w3.org/2000/svg\" height=\"24px\"viewBox=\"0 0 24 24\"\n",
              "       width=\"24px\">\n",
              "    <path d=\"M0 0h24v24H0V0z\" fill=\"none\"/>\n",
              "    <path d=\"M18.56 5.44l.94 2.06.94-2.06 2.06-.94-2.06-.94-.94-2.06-.94 2.06-2.06.94zm-11 1L8.5 8.5l.94-2.06 2.06-.94-2.06-.94L8.5 2.5l-.94 2.06-2.06.94zm10 10l.94 2.06.94-2.06 2.06-.94-2.06-.94-.94-2.06-.94 2.06-2.06.94z\"/><path d=\"M17.41 7.96l-1.37-1.37c-.4-.4-.92-.59-1.43-.59-.52 0-1.04.2-1.43.59L10.3 9.45l-7.72 7.72c-.78.78-.78 2.05 0 2.83L4 21.41c.39.39.9.59 1.41.59.51 0 1.02-.2 1.41-.59l7.78-7.78 2.81-2.81c.8-.78.8-2.07 0-2.86zM5.41 20L4 18.59l7.72-7.72 1.47 1.35L5.41 20z\"/>\n",
              "  </svg>\n",
              "      </button>\n",
              "      \n",
              "  <style>\n",
              "    .colab-df-container {\n",
              "      display:flex;\n",
              "      flex-wrap:wrap;\n",
              "      gap: 12px;\n",
              "    }\n",
              "\n",
              "    .colab-df-convert {\n",
              "      background-color: #E8F0FE;\n",
              "      border: none;\n",
              "      border-radius: 50%;\n",
              "      cursor: pointer;\n",
              "      display: none;\n",
              "      fill: #1967D2;\n",
              "      height: 32px;\n",
              "      padding: 0 0 0 0;\n",
              "      width: 32px;\n",
              "    }\n",
              "\n",
              "    .colab-df-convert:hover {\n",
              "      background-color: #E2EBFA;\n",
              "      box-shadow: 0px 1px 2px rgba(60, 64, 67, 0.3), 0px 1px 3px 1px rgba(60, 64, 67, 0.15);\n",
              "      fill: #174EA6;\n",
              "    }\n",
              "\n",
              "    [theme=dark] .colab-df-convert {\n",
              "      background-color: #3B4455;\n",
              "      fill: #D2E3FC;\n",
              "    }\n",
              "\n",
              "    [theme=dark] .colab-df-convert:hover {\n",
              "      background-color: #434B5C;\n",
              "      box-shadow: 0px 1px 3px 1px rgba(0, 0, 0, 0.15);\n",
              "      filter: drop-shadow(0px 1px 2px rgba(0, 0, 0, 0.3));\n",
              "      fill: #FFFFFF;\n",
              "    }\n",
              "  </style>\n",
              "\n",
              "      <script>\n",
              "        const buttonEl =\n",
              "          document.querySelector('#df-72ab7878-3512-40bc-bdef-0e91cd651c81 button.colab-df-convert');\n",
              "        buttonEl.style.display =\n",
              "          google.colab.kernel.accessAllowed ? 'block' : 'none';\n",
              "\n",
              "        async function convertToInteractive(key) {\n",
              "          const element = document.querySelector('#df-72ab7878-3512-40bc-bdef-0e91cd651c81');\n",
              "          const dataTable =\n",
              "            await google.colab.kernel.invokeFunction('convertToInteractive',\n",
              "                                                     [key], {});\n",
              "          if (!dataTable) return;\n",
              "\n",
              "          const docLinkHtml = 'Like what you see? Visit the ' +\n",
              "            '<a target=\"_blank\" href=https://colab.research.google.com/notebooks/data_table.ipynb>data table notebook</a>'\n",
              "            + ' to learn more about interactive tables.';\n",
              "          element.innerHTML = '';\n",
              "          dataTable['output_type'] = 'display_data';\n",
              "          await google.colab.output.renderOutput(dataTable, element);\n",
              "          const docLink = document.createElement('div');\n",
              "          docLink.innerHTML = docLinkHtml;\n",
              "          element.appendChild(docLink);\n",
              "        }\n",
              "      </script>\n",
              "    </div>\n",
              "  </div>\n",
              "  "
            ]
          },
          "metadata": {},
          "execution_count": 45
        }
      ],
      "source": [
        "pd.set_option('display.max_columns', None)\n",
        "df = pd.read_csv('/content/jena_climate_2009_2016.csv')\n",
        "df.head()"
      ]
    },
    {
      "cell_type": "code",
      "source": [
        "df.sample"
      ],
      "metadata": {
        "colab": {
          "base_uri": "https://localhost:8080/"
        },
        "id": "6O8P7dOfJA0v",
        "outputId": "040a35cc-8bf3-49c5-af16-0afa3acd81fa"
      },
      "execution_count": 46,
      "outputs": [
        {
          "output_type": "execute_result",
          "data": {
            "text/plain": [
              "<bound method NDFrame.sample of                   Date Time  p (mbar)  T (degC)  Tpot (K)  Tdew (degC)  \\\n",
              "0       01.01.2009 00:10:00    996.52     -8.02    265.40        -8.90   \n",
              "1       01.01.2009 00:20:00    996.57     -8.41    265.01        -9.28   \n",
              "2       01.01.2009 00:30:00    996.53     -8.51    264.91        -9.31   \n",
              "3       01.01.2009 00:40:00    996.51     -8.31    265.12        -9.07   \n",
              "4       01.01.2009 00:50:00    996.51     -8.27    265.15        -9.04   \n",
              "...                     ...       ...       ...       ...          ...   \n",
              "420546  31.12.2016 23:20:00   1000.07     -4.05    269.10        -8.13   \n",
              "420547  31.12.2016 23:30:00    999.93     -3.35    269.81        -8.06   \n",
              "420548  31.12.2016 23:40:00    999.82     -3.16    270.01        -8.21   \n",
              "420549  31.12.2016 23:50:00    999.81     -4.23    268.94        -8.53   \n",
              "420550  01.01.2017 00:00:00    999.82     -4.82    268.36        -8.42   \n",
              "\n",
              "        rh (%)  VPmax (mbar)  VPact (mbar)  VPdef (mbar)  sh (g/kg)  \\\n",
              "0        93.30          3.33          3.11          0.22       1.94   \n",
              "1        93.40          3.23          3.02          0.21       1.89   \n",
              "2        93.90          3.21          3.01          0.20       1.88   \n",
              "3        94.20          3.26          3.07          0.19       1.92   \n",
              "4        94.10          3.27          3.08          0.19       1.92   \n",
              "...        ...           ...           ...           ...        ...   \n",
              "420546   73.10          4.52          3.30          1.22       2.06   \n",
              "420547   69.71          4.77          3.32          1.44       2.07   \n",
              "420548   67.91          4.84          3.28          1.55       2.05   \n",
              "420549   71.80          4.46          3.20          1.26       1.99   \n",
              "420550   75.70          4.27          3.23          1.04       2.01   \n",
              "\n",
              "        H2OC (mmol/mol)  rho (g/m**3)  wv (m/s)  max. wv (m/s)  wd (deg)  \n",
              "0                  3.12       1307.75      1.03           1.75     152.3  \n",
              "1                  3.03       1309.80      0.72           1.50     136.1  \n",
              "2                  3.02       1310.24      0.19           0.63     171.6  \n",
              "3                  3.08       1309.19      0.34           0.50     198.0  \n",
              "4                  3.09       1309.00      0.32           0.63     214.3  \n",
              "...                 ...           ...       ...            ...       ...  \n",
              "420546             3.30       1292.98      0.67           1.52     240.0  \n",
              "420547             3.32       1289.44      1.14           1.92     234.3  \n",
              "420548             3.28       1288.39      1.08           2.00     215.2  \n",
              "420549             3.20       1293.56      1.49           2.16     225.8  \n",
              "420550             3.23       1296.38      1.23           1.96     184.9  \n",
              "\n",
              "[420551 rows x 15 columns]>"
            ]
          },
          "metadata": {},
          "execution_count": 46
        }
      ]
    },
    {
      "cell_type": "code",
      "source": [
        "df.isnull().sum()"
      ],
      "metadata": {
        "colab": {
          "base_uri": "https://localhost:8080/"
        },
        "id": "4zjtV5DIJYWg",
        "outputId": "06abec9a-64a3-420b-918a-5dbdd042db83"
      },
      "execution_count": 47,
      "outputs": [
        {
          "output_type": "execute_result",
          "data": {
            "text/plain": [
              "Date Time          0\n",
              "p (mbar)           0\n",
              "T (degC)           0\n",
              "Tpot (K)           0\n",
              "Tdew (degC)        0\n",
              "rh (%)             0\n",
              "VPmax (mbar)       0\n",
              "VPact (mbar)       0\n",
              "VPdef (mbar)       0\n",
              "sh (g/kg)          0\n",
              "H2OC (mmol/mol)    0\n",
              "rho (g/m**3)       0\n",
              "wv (m/s)           0\n",
              "max. wv (m/s)      0\n",
              "wd (deg)           0\n",
              "dtype: int64"
            ]
          },
          "metadata": {},
          "execution_count": 47
        }
      ]
    },
    {
      "cell_type": "code",
      "source": [
        "\n",
        "#Extarcting time(year,month,days,hours,minutes) from Data time column\n",
        "\n",
        "\n",
        "import datetime\n",
        "\n",
        "todays_date = datetime.date.today()\n",
        "print(todays_date)\n",
        "\n",
        "\n"
      ],
      "metadata": {
        "colab": {
          "base_uri": "https://localhost:8080/"
        },
        "id": "NgdQ6tPmJcOs",
        "outputId": "0a807426-795d-408d-9f92-4e433ac98f5f"
      },
      "execution_count": 48,
      "outputs": [
        {
          "output_type": "stream",
          "name": "stdout",
          "text": [
            "2022-06-18\n"
          ]
        }
      ]
    },
    {
      "cell_type": "code",
      "source": [
        "df[\"b_day\"] = pd.to_datetime(df[\"Date Time\"])\n"
      ],
      "metadata": {
        "id": "yYdk-kYZKY_V"
      },
      "execution_count": 50,
      "outputs": []
    },
    {
      "cell_type": "code",
      "source": [
        "df[\"b_day\"]"
      ],
      "metadata": {
        "colab": {
          "base_uri": "https://localhost:8080/"
        },
        "id": "0ljNVXbIKvbV",
        "outputId": "30b6b458-f4b5-4187-890a-b1f1a11b60b2"
      },
      "execution_count": 51,
      "outputs": [
        {
          "output_type": "execute_result",
          "data": {
            "text/plain": [
              "0        2009-01-01 00:10:00\n",
              "1        2009-01-01 00:20:00\n",
              "2        2009-01-01 00:30:00\n",
              "3        2009-01-01 00:40:00\n",
              "4        2009-01-01 00:50:00\n",
              "                 ...        \n",
              "420546   2016-12-31 23:20:00\n",
              "420547   2016-12-31 23:30:00\n",
              "420548   2016-12-31 23:40:00\n",
              "420549   2016-12-31 23:50:00\n",
              "420550   2017-01-01 00:00:00\n",
              "Name: b_day, Length: 420551, dtype: datetime64[ns]"
            ]
          },
          "metadata": {},
          "execution_count": 51
        }
      ]
    },
    {
      "cell_type": "code",
      "source": [
        "df[\"Year\"] = df[\"b_day\"].dt.year\n",
        "df[\"Month\"] = df[\"b_day\"].dt.month\n",
        "df[\"Day\"] = df[\"b_day\"].dt.day\n",
        "df[\"Hour\"] = df[\"b_day\"].dt.hour\n",
        "df[\"Minute\"] = df[\"b_day\"].dt.minute\n"
      ],
      "metadata": {
        "id": "qR3NuT4gKdFn"
      },
      "execution_count": 52,
      "outputs": []
    },
    {
      "cell_type": "code",
      "source": [
        "df[\"Year\"]"
      ],
      "metadata": {
        "colab": {
          "base_uri": "https://localhost:8080/"
        },
        "id": "7P2gP1LcLAG2",
        "outputId": "539c2733-65ad-4979-8ea2-e2f2d42027bd"
      },
      "execution_count": 53,
      "outputs": [
        {
          "output_type": "execute_result",
          "data": {
            "text/plain": [
              "0         2009\n",
              "1         2009\n",
              "2         2009\n",
              "3         2009\n",
              "4         2009\n",
              "          ... \n",
              "420546    2016\n",
              "420547    2016\n",
              "420548    2016\n",
              "420549    2016\n",
              "420550    2017\n",
              "Name: Year, Length: 420551, dtype: int64"
            ]
          },
          "metadata": {},
          "execution_count": 53
        }
      ]
    },
    {
      "cell_type": "code",
      "source": [
        "df[\"Month\"]"
      ],
      "metadata": {
        "colab": {
          "base_uri": "https://localhost:8080/"
        },
        "id": "zRh1DpZ3LCVL",
        "outputId": "1522d35b-d517-42b8-90f2-823c0b633426"
      },
      "execution_count": 54,
      "outputs": [
        {
          "output_type": "execute_result",
          "data": {
            "text/plain": [
              "0          1\n",
              "1          1\n",
              "2          1\n",
              "3          1\n",
              "4          1\n",
              "          ..\n",
              "420546    12\n",
              "420547    12\n",
              "420548    12\n",
              "420549    12\n",
              "420550     1\n",
              "Name: Month, Length: 420551, dtype: int64"
            ]
          },
          "metadata": {},
          "execution_count": 54
        }
      ]
    },
    {
      "cell_type": "code",
      "source": [
        "df[\"Day\"]"
      ],
      "metadata": {
        "colab": {
          "base_uri": "https://localhost:8080/"
        },
        "id": "uLINQ-1ILFPY",
        "outputId": "5c639563-b889-4fd4-d676-f87af66c63cb"
      },
      "execution_count": 55,
      "outputs": [
        {
          "output_type": "execute_result",
          "data": {
            "text/plain": [
              "0          1\n",
              "1          1\n",
              "2          1\n",
              "3          1\n",
              "4          1\n",
              "          ..\n",
              "420546    31\n",
              "420547    31\n",
              "420548    31\n",
              "420549    31\n",
              "420550     1\n",
              "Name: Day, Length: 420551, dtype: int64"
            ]
          },
          "metadata": {},
          "execution_count": 55
        }
      ]
    },
    {
      "cell_type": "code",
      "source": [
        "df[\"Hour\"]\n"
      ],
      "metadata": {
        "colab": {
          "base_uri": "https://localhost:8080/"
        },
        "id": "yCnWiiWfLK2P",
        "outputId": "c712dc01-aef4-4517-975f-fcb9521c006a"
      },
      "execution_count": 56,
      "outputs": [
        {
          "output_type": "execute_result",
          "data": {
            "text/plain": [
              "0          0\n",
              "1          0\n",
              "2          0\n",
              "3          0\n",
              "4          0\n",
              "          ..\n",
              "420546    23\n",
              "420547    23\n",
              "420548    23\n",
              "420549    23\n",
              "420550     0\n",
              "Name: Hour, Length: 420551, dtype: int64"
            ]
          },
          "metadata": {},
          "execution_count": 56
        }
      ]
    },
    {
      "cell_type": "code",
      "source": [
        "\n",
        "df[\"Minute\"]"
      ],
      "metadata": {
        "colab": {
          "base_uri": "https://localhost:8080/"
        },
        "id": "PMm7GtbALpYi",
        "outputId": "7ced6f73-faa2-4079-aa1b-8c40354157e3"
      },
      "execution_count": 57,
      "outputs": [
        {
          "output_type": "execute_result",
          "data": {
            "text/plain": [
              "0         10\n",
              "1         20\n",
              "2         30\n",
              "3         40\n",
              "4         50\n",
              "          ..\n",
              "420546    20\n",
              "420547    30\n",
              "420548    40\n",
              "420549    50\n",
              "420550     0\n",
              "Name: Minute, Length: 420551, dtype: int64"
            ]
          },
          "metadata": {},
          "execution_count": 57
        }
      ]
    },
    {
      "cell_type": "code",
      "source": [
        "df.sample(10)"
      ],
      "metadata": {
        "colab": {
          "base_uri": "https://localhost:8080/",
          "height": 809
        },
        "id": "KATU7qXfNO0u",
        "outputId": "93381068-d579-4733-8640-d10360690734"
      },
      "execution_count": 58,
      "outputs": [
        {
          "output_type": "execute_result",
          "data": {
            "text/plain": [
              "                  Date Time  p (mbar)  T (degC)  Tpot (K)  Tdew (degC)  \\\n",
              "201834  01.11.2012 15:30:00    963.16      9.15    285.36         5.15   \n",
              "156356  21.12.2011 19:50:00    989.78      2.23    276.20         0.33   \n",
              "316658  07.01.2015 10:30:00    999.95      2.76    275.92         1.26   \n",
              "281863  10.05.2014 03:20:00    988.40      6.66    280.76         5.02   \n",
              "284715  29.05.2014 22:40:00    993.18      7.93    281.64         5.99   \n",
              "411824  01.11.2016 09:40:00    995.02      3.11    276.66         3.02   \n",
              "248488  21.09.2013 15:20:00    999.65     14.88    288.07        10.09   \n",
              "184065  01.07.2012 06:00:00    986.85     18.35    292.62        16.11   \n",
              "216222  09.02.2013 13:30:00    990.56     -1.24    272.66        -3.30   \n",
              "413832  15.11.2016 08:20:00    999.82      1.16    274.33        -3.29   \n",
              "\n",
              "        rh (%)  VPmax (mbar)  VPact (mbar)  VPdef (mbar)  sh (g/kg)  \\\n",
              "201834    76.0         11.61          8.82          2.79       5.72   \n",
              "156356    87.2          7.18          6.26          0.92       3.94   \n",
              "316658    89.8          7.45          6.69          0.76       4.17   \n",
              "281863    89.2          9.80          8.74          1.06       5.52   \n",
              "284715    87.5         10.69          9.35          1.34       5.88   \n",
              "411824    99.4          7.64          7.59          0.05       4.76   \n",
              "248488    73.0         16.95         12.37          4.58       7.73   \n",
              "184065    86.8         21.13         18.34          2.79      11.64   \n",
              "216222    85.8          5.58          4.78          0.79       3.01   \n",
              "413832    72.1          6.64          4.79          1.85       2.98   \n",
              "\n",
              "        H2OC (mmol/mol)  rho (g/m**3)  wv (m/s)  max. wv (m/s)  wd (deg)  \\\n",
              "201834             9.16       1184.39      3.60           5.13    174.20   \n",
              "156356             6.32       1249.05      3.56           5.71    257.10   \n",
              "316658             6.69       1259.29      1.87           4.65    228.70   \n",
              "281863             8.84       1226.37      1.88           3.32    232.30   \n",
              "284715             9.42       1226.49      2.03           3.04     25.75   \n",
              "411824             7.63       1251.05      1.20           2.36    185.70   \n",
              "248488            12.38       1203.34      1.16           2.96    235.40   \n",
              "184065            18.59       1171.02      1.73           2.72    262.40   \n",
              "216222             4.83       1266.71      1.16           3.20    272.20   \n",
              "413832             4.79       1267.40      3.32           4.69    164.20   \n",
              "\n",
              "                     b_day  Year  Month  Day  Hour  Minute  \n",
              "201834 2012-01-11 15:30:00  2012      1   11    15      30  \n",
              "156356 2011-12-21 19:50:00  2011     12   21    19      50  \n",
              "316658 2015-07-01 10:30:00  2015      7    1    10      30  \n",
              "281863 2014-10-05 03:20:00  2014     10    5     3      20  \n",
              "284715 2014-05-29 22:40:00  2014      5   29    22      40  \n",
              "411824 2016-01-11 09:40:00  2016      1   11     9      40  \n",
              "248488 2013-09-21 15:20:00  2013      9   21    15      20  \n",
              "184065 2012-01-07 06:00:00  2012      1    7     6       0  \n",
              "216222 2013-09-02 13:30:00  2013      9    2    13      30  \n",
              "413832 2016-11-15 08:20:00  2016     11   15     8      20  "
            ],
            "text/html": [
              "\n",
              "  <div id=\"df-353f6724-cd74-42bf-b323-556d38a0dd56\">\n",
              "    <div class=\"colab-df-container\">\n",
              "      <div>\n",
              "<style scoped>\n",
              "    .dataframe tbody tr th:only-of-type {\n",
              "        vertical-align: middle;\n",
              "    }\n",
              "\n",
              "    .dataframe tbody tr th {\n",
              "        vertical-align: top;\n",
              "    }\n",
              "\n",
              "    .dataframe thead th {\n",
              "        text-align: right;\n",
              "    }\n",
              "</style>\n",
              "<table border=\"1\" class=\"dataframe\">\n",
              "  <thead>\n",
              "    <tr style=\"text-align: right;\">\n",
              "      <th></th>\n",
              "      <th>Date Time</th>\n",
              "      <th>p (mbar)</th>\n",
              "      <th>T (degC)</th>\n",
              "      <th>Tpot (K)</th>\n",
              "      <th>Tdew (degC)</th>\n",
              "      <th>rh (%)</th>\n",
              "      <th>VPmax (mbar)</th>\n",
              "      <th>VPact (mbar)</th>\n",
              "      <th>VPdef (mbar)</th>\n",
              "      <th>sh (g/kg)</th>\n",
              "      <th>H2OC (mmol/mol)</th>\n",
              "      <th>rho (g/m**3)</th>\n",
              "      <th>wv (m/s)</th>\n",
              "      <th>max. wv (m/s)</th>\n",
              "      <th>wd (deg)</th>\n",
              "      <th>b_day</th>\n",
              "      <th>Year</th>\n",
              "      <th>Month</th>\n",
              "      <th>Day</th>\n",
              "      <th>Hour</th>\n",
              "      <th>Minute</th>\n",
              "    </tr>\n",
              "  </thead>\n",
              "  <tbody>\n",
              "    <tr>\n",
              "      <th>201834</th>\n",
              "      <td>01.11.2012 15:30:00</td>\n",
              "      <td>963.16</td>\n",
              "      <td>9.15</td>\n",
              "      <td>285.36</td>\n",
              "      <td>5.15</td>\n",
              "      <td>76.0</td>\n",
              "      <td>11.61</td>\n",
              "      <td>8.82</td>\n",
              "      <td>2.79</td>\n",
              "      <td>5.72</td>\n",
              "      <td>9.16</td>\n",
              "      <td>1184.39</td>\n",
              "      <td>3.60</td>\n",
              "      <td>5.13</td>\n",
              "      <td>174.20</td>\n",
              "      <td>2012-01-11 15:30:00</td>\n",
              "      <td>2012</td>\n",
              "      <td>1</td>\n",
              "      <td>11</td>\n",
              "      <td>15</td>\n",
              "      <td>30</td>\n",
              "    </tr>\n",
              "    <tr>\n",
              "      <th>156356</th>\n",
              "      <td>21.12.2011 19:50:00</td>\n",
              "      <td>989.78</td>\n",
              "      <td>2.23</td>\n",
              "      <td>276.20</td>\n",
              "      <td>0.33</td>\n",
              "      <td>87.2</td>\n",
              "      <td>7.18</td>\n",
              "      <td>6.26</td>\n",
              "      <td>0.92</td>\n",
              "      <td>3.94</td>\n",
              "      <td>6.32</td>\n",
              "      <td>1249.05</td>\n",
              "      <td>3.56</td>\n",
              "      <td>5.71</td>\n",
              "      <td>257.10</td>\n",
              "      <td>2011-12-21 19:50:00</td>\n",
              "      <td>2011</td>\n",
              "      <td>12</td>\n",
              "      <td>21</td>\n",
              "      <td>19</td>\n",
              "      <td>50</td>\n",
              "    </tr>\n",
              "    <tr>\n",
              "      <th>316658</th>\n",
              "      <td>07.01.2015 10:30:00</td>\n",
              "      <td>999.95</td>\n",
              "      <td>2.76</td>\n",
              "      <td>275.92</td>\n",
              "      <td>1.26</td>\n",
              "      <td>89.8</td>\n",
              "      <td>7.45</td>\n",
              "      <td>6.69</td>\n",
              "      <td>0.76</td>\n",
              "      <td>4.17</td>\n",
              "      <td>6.69</td>\n",
              "      <td>1259.29</td>\n",
              "      <td>1.87</td>\n",
              "      <td>4.65</td>\n",
              "      <td>228.70</td>\n",
              "      <td>2015-07-01 10:30:00</td>\n",
              "      <td>2015</td>\n",
              "      <td>7</td>\n",
              "      <td>1</td>\n",
              "      <td>10</td>\n",
              "      <td>30</td>\n",
              "    </tr>\n",
              "    <tr>\n",
              "      <th>281863</th>\n",
              "      <td>10.05.2014 03:20:00</td>\n",
              "      <td>988.40</td>\n",
              "      <td>6.66</td>\n",
              "      <td>280.76</td>\n",
              "      <td>5.02</td>\n",
              "      <td>89.2</td>\n",
              "      <td>9.80</td>\n",
              "      <td>8.74</td>\n",
              "      <td>1.06</td>\n",
              "      <td>5.52</td>\n",
              "      <td>8.84</td>\n",
              "      <td>1226.37</td>\n",
              "      <td>1.88</td>\n",
              "      <td>3.32</td>\n",
              "      <td>232.30</td>\n",
              "      <td>2014-10-05 03:20:00</td>\n",
              "      <td>2014</td>\n",
              "      <td>10</td>\n",
              "      <td>5</td>\n",
              "      <td>3</td>\n",
              "      <td>20</td>\n",
              "    </tr>\n",
              "    <tr>\n",
              "      <th>284715</th>\n",
              "      <td>29.05.2014 22:40:00</td>\n",
              "      <td>993.18</td>\n",
              "      <td>7.93</td>\n",
              "      <td>281.64</td>\n",
              "      <td>5.99</td>\n",
              "      <td>87.5</td>\n",
              "      <td>10.69</td>\n",
              "      <td>9.35</td>\n",
              "      <td>1.34</td>\n",
              "      <td>5.88</td>\n",
              "      <td>9.42</td>\n",
              "      <td>1226.49</td>\n",
              "      <td>2.03</td>\n",
              "      <td>3.04</td>\n",
              "      <td>25.75</td>\n",
              "      <td>2014-05-29 22:40:00</td>\n",
              "      <td>2014</td>\n",
              "      <td>5</td>\n",
              "      <td>29</td>\n",
              "      <td>22</td>\n",
              "      <td>40</td>\n",
              "    </tr>\n",
              "    <tr>\n",
              "      <th>411824</th>\n",
              "      <td>01.11.2016 09:40:00</td>\n",
              "      <td>995.02</td>\n",
              "      <td>3.11</td>\n",
              "      <td>276.66</td>\n",
              "      <td>3.02</td>\n",
              "      <td>99.4</td>\n",
              "      <td>7.64</td>\n",
              "      <td>7.59</td>\n",
              "      <td>0.05</td>\n",
              "      <td>4.76</td>\n",
              "      <td>7.63</td>\n",
              "      <td>1251.05</td>\n",
              "      <td>1.20</td>\n",
              "      <td>2.36</td>\n",
              "      <td>185.70</td>\n",
              "      <td>2016-01-11 09:40:00</td>\n",
              "      <td>2016</td>\n",
              "      <td>1</td>\n",
              "      <td>11</td>\n",
              "      <td>9</td>\n",
              "      <td>40</td>\n",
              "    </tr>\n",
              "    <tr>\n",
              "      <th>248488</th>\n",
              "      <td>21.09.2013 15:20:00</td>\n",
              "      <td>999.65</td>\n",
              "      <td>14.88</td>\n",
              "      <td>288.07</td>\n",
              "      <td>10.09</td>\n",
              "      <td>73.0</td>\n",
              "      <td>16.95</td>\n",
              "      <td>12.37</td>\n",
              "      <td>4.58</td>\n",
              "      <td>7.73</td>\n",
              "      <td>12.38</td>\n",
              "      <td>1203.34</td>\n",
              "      <td>1.16</td>\n",
              "      <td>2.96</td>\n",
              "      <td>235.40</td>\n",
              "      <td>2013-09-21 15:20:00</td>\n",
              "      <td>2013</td>\n",
              "      <td>9</td>\n",
              "      <td>21</td>\n",
              "      <td>15</td>\n",
              "      <td>20</td>\n",
              "    </tr>\n",
              "    <tr>\n",
              "      <th>184065</th>\n",
              "      <td>01.07.2012 06:00:00</td>\n",
              "      <td>986.85</td>\n",
              "      <td>18.35</td>\n",
              "      <td>292.62</td>\n",
              "      <td>16.11</td>\n",
              "      <td>86.8</td>\n",
              "      <td>21.13</td>\n",
              "      <td>18.34</td>\n",
              "      <td>2.79</td>\n",
              "      <td>11.64</td>\n",
              "      <td>18.59</td>\n",
              "      <td>1171.02</td>\n",
              "      <td>1.73</td>\n",
              "      <td>2.72</td>\n",
              "      <td>262.40</td>\n",
              "      <td>2012-01-07 06:00:00</td>\n",
              "      <td>2012</td>\n",
              "      <td>1</td>\n",
              "      <td>7</td>\n",
              "      <td>6</td>\n",
              "      <td>0</td>\n",
              "    </tr>\n",
              "    <tr>\n",
              "      <th>216222</th>\n",
              "      <td>09.02.2013 13:30:00</td>\n",
              "      <td>990.56</td>\n",
              "      <td>-1.24</td>\n",
              "      <td>272.66</td>\n",
              "      <td>-3.30</td>\n",
              "      <td>85.8</td>\n",
              "      <td>5.58</td>\n",
              "      <td>4.78</td>\n",
              "      <td>0.79</td>\n",
              "      <td>3.01</td>\n",
              "      <td>4.83</td>\n",
              "      <td>1266.71</td>\n",
              "      <td>1.16</td>\n",
              "      <td>3.20</td>\n",
              "      <td>272.20</td>\n",
              "      <td>2013-09-02 13:30:00</td>\n",
              "      <td>2013</td>\n",
              "      <td>9</td>\n",
              "      <td>2</td>\n",
              "      <td>13</td>\n",
              "      <td>30</td>\n",
              "    </tr>\n",
              "    <tr>\n",
              "      <th>413832</th>\n",
              "      <td>15.11.2016 08:20:00</td>\n",
              "      <td>999.82</td>\n",
              "      <td>1.16</td>\n",
              "      <td>274.33</td>\n",
              "      <td>-3.29</td>\n",
              "      <td>72.1</td>\n",
              "      <td>6.64</td>\n",
              "      <td>4.79</td>\n",
              "      <td>1.85</td>\n",
              "      <td>2.98</td>\n",
              "      <td>4.79</td>\n",
              "      <td>1267.40</td>\n",
              "      <td>3.32</td>\n",
              "      <td>4.69</td>\n",
              "      <td>164.20</td>\n",
              "      <td>2016-11-15 08:20:00</td>\n",
              "      <td>2016</td>\n",
              "      <td>11</td>\n",
              "      <td>15</td>\n",
              "      <td>8</td>\n",
              "      <td>20</td>\n",
              "    </tr>\n",
              "  </tbody>\n",
              "</table>\n",
              "</div>\n",
              "      <button class=\"colab-df-convert\" onclick=\"convertToInteractive('df-353f6724-cd74-42bf-b323-556d38a0dd56')\"\n",
              "              title=\"Convert this dataframe to an interactive table.\"\n",
              "              style=\"display:none;\">\n",
              "        \n",
              "  <svg xmlns=\"http://www.w3.org/2000/svg\" height=\"24px\"viewBox=\"0 0 24 24\"\n",
              "       width=\"24px\">\n",
              "    <path d=\"M0 0h24v24H0V0z\" fill=\"none\"/>\n",
              "    <path d=\"M18.56 5.44l.94 2.06.94-2.06 2.06-.94-2.06-.94-.94-2.06-.94 2.06-2.06.94zm-11 1L8.5 8.5l.94-2.06 2.06-.94-2.06-.94L8.5 2.5l-.94 2.06-2.06.94zm10 10l.94 2.06.94-2.06 2.06-.94-2.06-.94-.94-2.06-.94 2.06-2.06.94z\"/><path d=\"M17.41 7.96l-1.37-1.37c-.4-.4-.92-.59-1.43-.59-.52 0-1.04.2-1.43.59L10.3 9.45l-7.72 7.72c-.78.78-.78 2.05 0 2.83L4 21.41c.39.39.9.59 1.41.59.51 0 1.02-.2 1.41-.59l7.78-7.78 2.81-2.81c.8-.78.8-2.07 0-2.86zM5.41 20L4 18.59l7.72-7.72 1.47 1.35L5.41 20z\"/>\n",
              "  </svg>\n",
              "      </button>\n",
              "      \n",
              "  <style>\n",
              "    .colab-df-container {\n",
              "      display:flex;\n",
              "      flex-wrap:wrap;\n",
              "      gap: 12px;\n",
              "    }\n",
              "\n",
              "    .colab-df-convert {\n",
              "      background-color: #E8F0FE;\n",
              "      border: none;\n",
              "      border-radius: 50%;\n",
              "      cursor: pointer;\n",
              "      display: none;\n",
              "      fill: #1967D2;\n",
              "      height: 32px;\n",
              "      padding: 0 0 0 0;\n",
              "      width: 32px;\n",
              "    }\n",
              "\n",
              "    .colab-df-convert:hover {\n",
              "      background-color: #E2EBFA;\n",
              "      box-shadow: 0px 1px 2px rgba(60, 64, 67, 0.3), 0px 1px 3px 1px rgba(60, 64, 67, 0.15);\n",
              "      fill: #174EA6;\n",
              "    }\n",
              "\n",
              "    [theme=dark] .colab-df-convert {\n",
              "      background-color: #3B4455;\n",
              "      fill: #D2E3FC;\n",
              "    }\n",
              "\n",
              "    [theme=dark] .colab-df-convert:hover {\n",
              "      background-color: #434B5C;\n",
              "      box-shadow: 0px 1px 3px 1px rgba(0, 0, 0, 0.15);\n",
              "      filter: drop-shadow(0px 1px 2px rgba(0, 0, 0, 0.3));\n",
              "      fill: #FFFFFF;\n",
              "    }\n",
              "  </style>\n",
              "\n",
              "      <script>\n",
              "        const buttonEl =\n",
              "          document.querySelector('#df-353f6724-cd74-42bf-b323-556d38a0dd56 button.colab-df-convert');\n",
              "        buttonEl.style.display =\n",
              "          google.colab.kernel.accessAllowed ? 'block' : 'none';\n",
              "\n",
              "        async function convertToInteractive(key) {\n",
              "          const element = document.querySelector('#df-353f6724-cd74-42bf-b323-556d38a0dd56');\n",
              "          const dataTable =\n",
              "            await google.colab.kernel.invokeFunction('convertToInteractive',\n",
              "                                                     [key], {});\n",
              "          if (!dataTable) return;\n",
              "\n",
              "          const docLinkHtml = 'Like what you see? Visit the ' +\n",
              "            '<a target=\"_blank\" href=https://colab.research.google.com/notebooks/data_table.ipynb>data table notebook</a>'\n",
              "            + ' to learn more about interactive tables.';\n",
              "          element.innerHTML = '';\n",
              "          dataTable['output_type'] = 'display_data';\n",
              "          await google.colab.output.renderOutput(dataTable, element);\n",
              "          const docLink = document.createElement('div');\n",
              "          docLink.innerHTML = docLinkHtml;\n",
              "          element.appendChild(docLink);\n",
              "        }\n",
              "      </script>\n",
              "    </div>\n",
              "  </div>\n",
              "  "
            ]
          },
          "metadata": {},
          "execution_count": 58
        }
      ]
    },
    {
      "cell_type": "code",
      "source": [
        "\n",
        "#Removing Date time and d_day coluns since we have extracted \n",
        "\n",
        "df_clearn =df.drop(columns=['Date Time', 'b_day'])\n"
      ],
      "metadata": {
        "id": "WwJTiUTGNZnL"
      },
      "execution_count": 59,
      "outputs": []
    },
    {
      "cell_type": "code",
      "source": [
        "df_clearn"
      ],
      "metadata": {
        "colab": {
          "base_uri": "https://localhost:8080/",
          "height": 502
        },
        "id": "oWnuK8_MO_C1",
        "outputId": "1420c6ea-8c00-44a6-9ab6-fc40280841ba"
      },
      "execution_count": 60,
      "outputs": [
        {
          "output_type": "execute_result",
          "data": {
            "text/plain": [
              "        p (mbar)  T (degC)  Tpot (K)  Tdew (degC)  rh (%)  VPmax (mbar)  \\\n",
              "0         996.52     -8.02    265.40        -8.90   93.30          3.33   \n",
              "1         996.57     -8.41    265.01        -9.28   93.40          3.23   \n",
              "2         996.53     -8.51    264.91        -9.31   93.90          3.21   \n",
              "3         996.51     -8.31    265.12        -9.07   94.20          3.26   \n",
              "4         996.51     -8.27    265.15        -9.04   94.10          3.27   \n",
              "...          ...       ...       ...          ...     ...           ...   \n",
              "420546   1000.07     -4.05    269.10        -8.13   73.10          4.52   \n",
              "420547    999.93     -3.35    269.81        -8.06   69.71          4.77   \n",
              "420548    999.82     -3.16    270.01        -8.21   67.91          4.84   \n",
              "420549    999.81     -4.23    268.94        -8.53   71.80          4.46   \n",
              "420550    999.82     -4.82    268.36        -8.42   75.70          4.27   \n",
              "\n",
              "        VPact (mbar)  VPdef (mbar)  sh (g/kg)  H2OC (mmol/mol)  rho (g/m**3)  \\\n",
              "0               3.11          0.22       1.94             3.12       1307.75   \n",
              "1               3.02          0.21       1.89             3.03       1309.80   \n",
              "2               3.01          0.20       1.88             3.02       1310.24   \n",
              "3               3.07          0.19       1.92             3.08       1309.19   \n",
              "4               3.08          0.19       1.92             3.09       1309.00   \n",
              "...              ...           ...        ...              ...           ...   \n",
              "420546          3.30          1.22       2.06             3.30       1292.98   \n",
              "420547          3.32          1.44       2.07             3.32       1289.44   \n",
              "420548          3.28          1.55       2.05             3.28       1288.39   \n",
              "420549          3.20          1.26       1.99             3.20       1293.56   \n",
              "420550          3.23          1.04       2.01             3.23       1296.38   \n",
              "\n",
              "        wv (m/s)  max. wv (m/s)  wd (deg)  Year  Month  Day  Hour  Minute  \n",
              "0           1.03           1.75     152.3  2009      1    1     0      10  \n",
              "1           0.72           1.50     136.1  2009      1    1     0      20  \n",
              "2           0.19           0.63     171.6  2009      1    1     0      30  \n",
              "3           0.34           0.50     198.0  2009      1    1     0      40  \n",
              "4           0.32           0.63     214.3  2009      1    1     0      50  \n",
              "...          ...            ...       ...   ...    ...  ...   ...     ...  \n",
              "420546      0.67           1.52     240.0  2016     12   31    23      20  \n",
              "420547      1.14           1.92     234.3  2016     12   31    23      30  \n",
              "420548      1.08           2.00     215.2  2016     12   31    23      40  \n",
              "420549      1.49           2.16     225.8  2016     12   31    23      50  \n",
              "420550      1.23           1.96     184.9  2017      1    1     0       0  \n",
              "\n",
              "[420551 rows x 19 columns]"
            ],
            "text/html": [
              "\n",
              "  <div id=\"df-b80ed9e7-7d34-4d0a-9db6-b15bc499b947\">\n",
              "    <div class=\"colab-df-container\">\n",
              "      <div>\n",
              "<style scoped>\n",
              "    .dataframe tbody tr th:only-of-type {\n",
              "        vertical-align: middle;\n",
              "    }\n",
              "\n",
              "    .dataframe tbody tr th {\n",
              "        vertical-align: top;\n",
              "    }\n",
              "\n",
              "    .dataframe thead th {\n",
              "        text-align: right;\n",
              "    }\n",
              "</style>\n",
              "<table border=\"1\" class=\"dataframe\">\n",
              "  <thead>\n",
              "    <tr style=\"text-align: right;\">\n",
              "      <th></th>\n",
              "      <th>p (mbar)</th>\n",
              "      <th>T (degC)</th>\n",
              "      <th>Tpot (K)</th>\n",
              "      <th>Tdew (degC)</th>\n",
              "      <th>rh (%)</th>\n",
              "      <th>VPmax (mbar)</th>\n",
              "      <th>VPact (mbar)</th>\n",
              "      <th>VPdef (mbar)</th>\n",
              "      <th>sh (g/kg)</th>\n",
              "      <th>H2OC (mmol/mol)</th>\n",
              "      <th>rho (g/m**3)</th>\n",
              "      <th>wv (m/s)</th>\n",
              "      <th>max. wv (m/s)</th>\n",
              "      <th>wd (deg)</th>\n",
              "      <th>Year</th>\n",
              "      <th>Month</th>\n",
              "      <th>Day</th>\n",
              "      <th>Hour</th>\n",
              "      <th>Minute</th>\n",
              "    </tr>\n",
              "  </thead>\n",
              "  <tbody>\n",
              "    <tr>\n",
              "      <th>0</th>\n",
              "      <td>996.52</td>\n",
              "      <td>-8.02</td>\n",
              "      <td>265.40</td>\n",
              "      <td>-8.90</td>\n",
              "      <td>93.30</td>\n",
              "      <td>3.33</td>\n",
              "      <td>3.11</td>\n",
              "      <td>0.22</td>\n",
              "      <td>1.94</td>\n",
              "      <td>3.12</td>\n",
              "      <td>1307.75</td>\n",
              "      <td>1.03</td>\n",
              "      <td>1.75</td>\n",
              "      <td>152.3</td>\n",
              "      <td>2009</td>\n",
              "      <td>1</td>\n",
              "      <td>1</td>\n",
              "      <td>0</td>\n",
              "      <td>10</td>\n",
              "    </tr>\n",
              "    <tr>\n",
              "      <th>1</th>\n",
              "      <td>996.57</td>\n",
              "      <td>-8.41</td>\n",
              "      <td>265.01</td>\n",
              "      <td>-9.28</td>\n",
              "      <td>93.40</td>\n",
              "      <td>3.23</td>\n",
              "      <td>3.02</td>\n",
              "      <td>0.21</td>\n",
              "      <td>1.89</td>\n",
              "      <td>3.03</td>\n",
              "      <td>1309.80</td>\n",
              "      <td>0.72</td>\n",
              "      <td>1.50</td>\n",
              "      <td>136.1</td>\n",
              "      <td>2009</td>\n",
              "      <td>1</td>\n",
              "      <td>1</td>\n",
              "      <td>0</td>\n",
              "      <td>20</td>\n",
              "    </tr>\n",
              "    <tr>\n",
              "      <th>2</th>\n",
              "      <td>996.53</td>\n",
              "      <td>-8.51</td>\n",
              "      <td>264.91</td>\n",
              "      <td>-9.31</td>\n",
              "      <td>93.90</td>\n",
              "      <td>3.21</td>\n",
              "      <td>3.01</td>\n",
              "      <td>0.20</td>\n",
              "      <td>1.88</td>\n",
              "      <td>3.02</td>\n",
              "      <td>1310.24</td>\n",
              "      <td>0.19</td>\n",
              "      <td>0.63</td>\n",
              "      <td>171.6</td>\n",
              "      <td>2009</td>\n",
              "      <td>1</td>\n",
              "      <td>1</td>\n",
              "      <td>0</td>\n",
              "      <td>30</td>\n",
              "    </tr>\n",
              "    <tr>\n",
              "      <th>3</th>\n",
              "      <td>996.51</td>\n",
              "      <td>-8.31</td>\n",
              "      <td>265.12</td>\n",
              "      <td>-9.07</td>\n",
              "      <td>94.20</td>\n",
              "      <td>3.26</td>\n",
              "      <td>3.07</td>\n",
              "      <td>0.19</td>\n",
              "      <td>1.92</td>\n",
              "      <td>3.08</td>\n",
              "      <td>1309.19</td>\n",
              "      <td>0.34</td>\n",
              "      <td>0.50</td>\n",
              "      <td>198.0</td>\n",
              "      <td>2009</td>\n",
              "      <td>1</td>\n",
              "      <td>1</td>\n",
              "      <td>0</td>\n",
              "      <td>40</td>\n",
              "    </tr>\n",
              "    <tr>\n",
              "      <th>4</th>\n",
              "      <td>996.51</td>\n",
              "      <td>-8.27</td>\n",
              "      <td>265.15</td>\n",
              "      <td>-9.04</td>\n",
              "      <td>94.10</td>\n",
              "      <td>3.27</td>\n",
              "      <td>3.08</td>\n",
              "      <td>0.19</td>\n",
              "      <td>1.92</td>\n",
              "      <td>3.09</td>\n",
              "      <td>1309.00</td>\n",
              "      <td>0.32</td>\n",
              "      <td>0.63</td>\n",
              "      <td>214.3</td>\n",
              "      <td>2009</td>\n",
              "      <td>1</td>\n",
              "      <td>1</td>\n",
              "      <td>0</td>\n",
              "      <td>50</td>\n",
              "    </tr>\n",
              "    <tr>\n",
              "      <th>...</th>\n",
              "      <td>...</td>\n",
              "      <td>...</td>\n",
              "      <td>...</td>\n",
              "      <td>...</td>\n",
              "      <td>...</td>\n",
              "      <td>...</td>\n",
              "      <td>...</td>\n",
              "      <td>...</td>\n",
              "      <td>...</td>\n",
              "      <td>...</td>\n",
              "      <td>...</td>\n",
              "      <td>...</td>\n",
              "      <td>...</td>\n",
              "      <td>...</td>\n",
              "      <td>...</td>\n",
              "      <td>...</td>\n",
              "      <td>...</td>\n",
              "      <td>...</td>\n",
              "      <td>...</td>\n",
              "    </tr>\n",
              "    <tr>\n",
              "      <th>420546</th>\n",
              "      <td>1000.07</td>\n",
              "      <td>-4.05</td>\n",
              "      <td>269.10</td>\n",
              "      <td>-8.13</td>\n",
              "      <td>73.10</td>\n",
              "      <td>4.52</td>\n",
              "      <td>3.30</td>\n",
              "      <td>1.22</td>\n",
              "      <td>2.06</td>\n",
              "      <td>3.30</td>\n",
              "      <td>1292.98</td>\n",
              "      <td>0.67</td>\n",
              "      <td>1.52</td>\n",
              "      <td>240.0</td>\n",
              "      <td>2016</td>\n",
              "      <td>12</td>\n",
              "      <td>31</td>\n",
              "      <td>23</td>\n",
              "      <td>20</td>\n",
              "    </tr>\n",
              "    <tr>\n",
              "      <th>420547</th>\n",
              "      <td>999.93</td>\n",
              "      <td>-3.35</td>\n",
              "      <td>269.81</td>\n",
              "      <td>-8.06</td>\n",
              "      <td>69.71</td>\n",
              "      <td>4.77</td>\n",
              "      <td>3.32</td>\n",
              "      <td>1.44</td>\n",
              "      <td>2.07</td>\n",
              "      <td>3.32</td>\n",
              "      <td>1289.44</td>\n",
              "      <td>1.14</td>\n",
              "      <td>1.92</td>\n",
              "      <td>234.3</td>\n",
              "      <td>2016</td>\n",
              "      <td>12</td>\n",
              "      <td>31</td>\n",
              "      <td>23</td>\n",
              "      <td>30</td>\n",
              "    </tr>\n",
              "    <tr>\n",
              "      <th>420548</th>\n",
              "      <td>999.82</td>\n",
              "      <td>-3.16</td>\n",
              "      <td>270.01</td>\n",
              "      <td>-8.21</td>\n",
              "      <td>67.91</td>\n",
              "      <td>4.84</td>\n",
              "      <td>3.28</td>\n",
              "      <td>1.55</td>\n",
              "      <td>2.05</td>\n",
              "      <td>3.28</td>\n",
              "      <td>1288.39</td>\n",
              "      <td>1.08</td>\n",
              "      <td>2.00</td>\n",
              "      <td>215.2</td>\n",
              "      <td>2016</td>\n",
              "      <td>12</td>\n",
              "      <td>31</td>\n",
              "      <td>23</td>\n",
              "      <td>40</td>\n",
              "    </tr>\n",
              "    <tr>\n",
              "      <th>420549</th>\n",
              "      <td>999.81</td>\n",
              "      <td>-4.23</td>\n",
              "      <td>268.94</td>\n",
              "      <td>-8.53</td>\n",
              "      <td>71.80</td>\n",
              "      <td>4.46</td>\n",
              "      <td>3.20</td>\n",
              "      <td>1.26</td>\n",
              "      <td>1.99</td>\n",
              "      <td>3.20</td>\n",
              "      <td>1293.56</td>\n",
              "      <td>1.49</td>\n",
              "      <td>2.16</td>\n",
              "      <td>225.8</td>\n",
              "      <td>2016</td>\n",
              "      <td>12</td>\n",
              "      <td>31</td>\n",
              "      <td>23</td>\n",
              "      <td>50</td>\n",
              "    </tr>\n",
              "    <tr>\n",
              "      <th>420550</th>\n",
              "      <td>999.82</td>\n",
              "      <td>-4.82</td>\n",
              "      <td>268.36</td>\n",
              "      <td>-8.42</td>\n",
              "      <td>75.70</td>\n",
              "      <td>4.27</td>\n",
              "      <td>3.23</td>\n",
              "      <td>1.04</td>\n",
              "      <td>2.01</td>\n",
              "      <td>3.23</td>\n",
              "      <td>1296.38</td>\n",
              "      <td>1.23</td>\n",
              "      <td>1.96</td>\n",
              "      <td>184.9</td>\n",
              "      <td>2017</td>\n",
              "      <td>1</td>\n",
              "      <td>1</td>\n",
              "      <td>0</td>\n",
              "      <td>0</td>\n",
              "    </tr>\n",
              "  </tbody>\n",
              "</table>\n",
              "<p>420551 rows × 19 columns</p>\n",
              "</div>\n",
              "      <button class=\"colab-df-convert\" onclick=\"convertToInteractive('df-b80ed9e7-7d34-4d0a-9db6-b15bc499b947')\"\n",
              "              title=\"Convert this dataframe to an interactive table.\"\n",
              "              style=\"display:none;\">\n",
              "        \n",
              "  <svg xmlns=\"http://www.w3.org/2000/svg\" height=\"24px\"viewBox=\"0 0 24 24\"\n",
              "       width=\"24px\">\n",
              "    <path d=\"M0 0h24v24H0V0z\" fill=\"none\"/>\n",
              "    <path d=\"M18.56 5.44l.94 2.06.94-2.06 2.06-.94-2.06-.94-.94-2.06-.94 2.06-2.06.94zm-11 1L8.5 8.5l.94-2.06 2.06-.94-2.06-.94L8.5 2.5l-.94 2.06-2.06.94zm10 10l.94 2.06.94-2.06 2.06-.94-2.06-.94-.94-2.06-.94 2.06-2.06.94z\"/><path d=\"M17.41 7.96l-1.37-1.37c-.4-.4-.92-.59-1.43-.59-.52 0-1.04.2-1.43.59L10.3 9.45l-7.72 7.72c-.78.78-.78 2.05 0 2.83L4 21.41c.39.39.9.59 1.41.59.51 0 1.02-.2 1.41-.59l7.78-7.78 2.81-2.81c.8-.78.8-2.07 0-2.86zM5.41 20L4 18.59l7.72-7.72 1.47 1.35L5.41 20z\"/>\n",
              "  </svg>\n",
              "      </button>\n",
              "      \n",
              "  <style>\n",
              "    .colab-df-container {\n",
              "      display:flex;\n",
              "      flex-wrap:wrap;\n",
              "      gap: 12px;\n",
              "    }\n",
              "\n",
              "    .colab-df-convert {\n",
              "      background-color: #E8F0FE;\n",
              "      border: none;\n",
              "      border-radius: 50%;\n",
              "      cursor: pointer;\n",
              "      display: none;\n",
              "      fill: #1967D2;\n",
              "      height: 32px;\n",
              "      padding: 0 0 0 0;\n",
              "      width: 32px;\n",
              "    }\n",
              "\n",
              "    .colab-df-convert:hover {\n",
              "      background-color: #E2EBFA;\n",
              "      box-shadow: 0px 1px 2px rgba(60, 64, 67, 0.3), 0px 1px 3px 1px rgba(60, 64, 67, 0.15);\n",
              "      fill: #174EA6;\n",
              "    }\n",
              "\n",
              "    [theme=dark] .colab-df-convert {\n",
              "      background-color: #3B4455;\n",
              "      fill: #D2E3FC;\n",
              "    }\n",
              "\n",
              "    [theme=dark] .colab-df-convert:hover {\n",
              "      background-color: #434B5C;\n",
              "      box-shadow: 0px 1px 3px 1px rgba(0, 0, 0, 0.15);\n",
              "      filter: drop-shadow(0px 1px 2px rgba(0, 0, 0, 0.3));\n",
              "      fill: #FFFFFF;\n",
              "    }\n",
              "  </style>\n",
              "\n",
              "      <script>\n",
              "        const buttonEl =\n",
              "          document.querySelector('#df-b80ed9e7-7d34-4d0a-9db6-b15bc499b947 button.colab-df-convert');\n",
              "        buttonEl.style.display =\n",
              "          google.colab.kernel.accessAllowed ? 'block' : 'none';\n",
              "\n",
              "        async function convertToInteractive(key) {\n",
              "          const element = document.querySelector('#df-b80ed9e7-7d34-4d0a-9db6-b15bc499b947');\n",
              "          const dataTable =\n",
              "            await google.colab.kernel.invokeFunction('convertToInteractive',\n",
              "                                                     [key], {});\n",
              "          if (!dataTable) return;\n",
              "\n",
              "          const docLinkHtml = 'Like what you see? Visit the ' +\n",
              "            '<a target=\"_blank\" href=https://colab.research.google.com/notebooks/data_table.ipynb>data table notebook</a>'\n",
              "            + ' to learn more about interactive tables.';\n",
              "          element.innerHTML = '';\n",
              "          dataTable['output_type'] = 'display_data';\n",
              "          await google.colab.output.renderOutput(dataTable, element);\n",
              "          const docLink = document.createElement('div');\n",
              "          docLink.innerHTML = docLinkHtml;\n",
              "          element.appendChild(docLink);\n",
              "        }\n",
              "      </script>\n",
              "    </div>\n",
              "  </div>\n",
              "  "
            ]
          },
          "metadata": {},
          "execution_count": 60
        }
      ]
    },
    {
      "cell_type": "code",
      "source": [
        "df_clearn.dtypes"
      ],
      "metadata": {
        "colab": {
          "base_uri": "https://localhost:8080/"
        },
        "id": "fPaykK4HdPJg",
        "outputId": "d00aaed4-6c9a-4710-8e03-209126f7cda3"
      },
      "execution_count": 61,
      "outputs": [
        {
          "output_type": "execute_result",
          "data": {
            "text/plain": [
              "p (mbar)           float64\n",
              "T (degC)           float64\n",
              "Tpot (K)           float64\n",
              "Tdew (degC)        float64\n",
              "rh (%)             float64\n",
              "VPmax (mbar)       float64\n",
              "VPact (mbar)       float64\n",
              "VPdef (mbar)       float64\n",
              "sh (g/kg)          float64\n",
              "H2OC (mmol/mol)    float64\n",
              "rho (g/m**3)       float64\n",
              "wv (m/s)           float64\n",
              "max. wv (m/s)      float64\n",
              "wd (deg)           float64\n",
              "Year                 int64\n",
              "Month                int64\n",
              "Day                  int64\n",
              "Hour                 int64\n",
              "Minute               int64\n",
              "dtype: object"
            ]
          },
          "metadata": {},
          "execution_count": 61
        }
      ]
    },
    {
      "cell_type": "code",
      "source": [
        "df_clearn.columns.values"
      ],
      "metadata": {
        "colab": {
          "base_uri": "https://localhost:8080/"
        },
        "id": "fg2zXV46PHVy",
        "outputId": "c385c569-3ec5-4c91-e0c7-cd193533f2ae"
      },
      "execution_count": 62,
      "outputs": [
        {
          "output_type": "execute_result",
          "data": {
            "text/plain": [
              "array(['p (mbar)', 'T (degC)', 'Tpot (K)', 'Tdew (degC)', 'rh (%)',\n",
              "       'VPmax (mbar)', 'VPact (mbar)', 'VPdef (mbar)', 'sh (g/kg)',\n",
              "       'H2OC (mmol/mol)', 'rho (g/m**3)', 'wv (m/s)', 'max. wv (m/s)',\n",
              "       'wd (deg)', 'Year', 'Month', 'Day', 'Hour', 'Minute'], dtype=object)"
            ]
          },
          "metadata": {},
          "execution_count": 62
        }
      ]
    },
    {
      "cell_type": "code",
      "source": [
        "#\n",
        "\n",
        "train_columns = df_clearn.columns[df_clearn.columns != 'T (degC)']\n",
        "traget_columns = df_clearn.columns[df_clearn.columns == 'T (degC)']"
      ],
      "metadata": {
        "id": "Hm78sHnmPCEP"
      },
      "execution_count": 63,
      "outputs": []
    },
    {
      "cell_type": "code",
      "source": [
        "from sklearn.model_selection import train_test_split\n",
        "X, test, y, y_test = train_test_split(df[train_columns], df[traget_columns], test_size = 0.30, random_state = 0)\n",
        "scaler = sklearn.preprocessing.MinMaxScaler()\n",
        "scaler = sklearn.preprocessing.RobustScaler()\n",
        "scaler = sklearn.preprocessing.StandardScaler()\n",
        "X  = pd.DataFrame(scaler.fit_transform(X[train_columns]), columns=train_columns)\n",
        "test = pd.DataFrame(scaler.transform(test[train_columns]), columns=train_columns)\n",
        "X.shape"
      ],
      "metadata": {
        "colab": {
          "base_uri": "https://localhost:8080/"
        },
        "id": "RT_imbvIPbV7",
        "outputId": "4b6c5c2a-8533-47ca-e610-b7cd2efbedbe"
      },
      "execution_count": 64,
      "outputs": [
        {
          "output_type": "execute_result",
          "data": {
            "text/plain": [
              "(294385, 18)"
            ]
          },
          "metadata": {},
          "execution_count": 64
        }
      ]
    },
    {
      "cell_type": "code",
      "source": [
        "X.shape[1]"
      ],
      "metadata": {
        "colab": {
          "base_uri": "https://localhost:8080/"
        },
        "id": "5WJREWKnPmcc",
        "outputId": "c6b428f1-a97e-403c-d07e-c13b498ce2f5"
      },
      "execution_count": 66,
      "outputs": [
        {
          "output_type": "execute_result",
          "data": {
            "text/plain": [
              "18"
            ]
          },
          "metadata": {},
          "execution_count": 66
        }
      ]
    },
    {
      "cell_type": "code",
      "source": [
        "import keras\n",
        "from keras import layers\n",
        "\n",
        "input_s = layers.Input(shape=(X.shape[1]))\n",
        "encoded = layers.Dense(18, activation='relu')(input_s)\n",
        "encoded = layers.Dropout(.5)(encoded)\n",
        "encoded = layers.Dense(10, activation='relu')(encoded)\n",
        "encoded = layers.Dropout(.5)(encoded)\n",
        "encoded = layers.Dense(5, activation='relu')(encoded)\n",
        "\n",
        "decoded = layers.Dense(10, activation='relu')(encoded)\n",
        "decoded = layers.Dropout(.5)(decoded)\n",
        "decoded = layers.Dense(20, activation='relu')(decoded)\n",
        "decoded = layers.Dropout(.5)(decoded)\n",
        "decoded = layers.Dense(X.shape[1], activation='relu')(decoded)\n",
        "\n",
        "autoencoder = keras.Model(input_s, decoded)\n",
        "autoencoder.compile(\n",
        "  loss='mse',\n",
        "  optimizer='adam',\n",
        "  metrics=['mse'])\n",
        "\n",
        "autoencoder.summary()"
      ],
      "metadata": {
        "colab": {
          "base_uri": "https://localhost:8080/"
        },
        "id": "1wnEPGFhPkwV",
        "outputId": "481d2f93-5022-4f9e-d130-890cc8fbce19"
      },
      "execution_count": 72,
      "outputs": [
        {
          "output_type": "stream",
          "name": "stdout",
          "text": [
            "Model: \"model_5\"\n",
            "_________________________________________________________________\n",
            " Layer (type)                Output Shape              Param #   \n",
            "=================================================================\n",
            " input_6 (InputLayer)        [(None, 18)]              0         \n",
            "                                                                 \n",
            " dense_26 (Dense)            (None, 18)                342       \n",
            "                                                                 \n",
            " dropout_20 (Dropout)        (None, 18)                0         \n",
            "                                                                 \n",
            " dense_27 (Dense)            (None, 10)                190       \n",
            "                                                                 \n",
            " dropout_21 (Dropout)        (None, 10)                0         \n",
            "                                                                 \n",
            " dense_28 (Dense)            (None, 5)                 55        \n",
            "                                                                 \n",
            " dense_29 (Dense)            (None, 10)                60        \n",
            "                                                                 \n",
            " dropout_22 (Dropout)        (None, 10)                0         \n",
            "                                                                 \n",
            " dense_30 (Dense)            (None, 20)                220       \n",
            "                                                                 \n",
            " dropout_23 (Dropout)        (None, 20)                0         \n",
            "                                                                 \n",
            " dense_31 (Dense)            (None, 18)                378       \n",
            "                                                                 \n",
            "=================================================================\n",
            "Total params: 1,245\n",
            "Trainable params: 1,245\n",
            "Non-trainable params: 0\n",
            "_________________________________________________________________\n"
          ]
        }
      ]
    },
    {
      "cell_type": "code",
      "source": [
        "from tensorflow.keras.callbacks import EarlyStopping\n",
        "es = EarlyStopping(monitor='val_loss', patience=1, restore_best_weights=True)\n",
        "history = autoencoder.fit(x=X, y=X, epochs=5, verbose=1, validation_data=(test, test), callbacks=[es])\n",
        "plt.plot(history.history['loss'])\n",
        "plt.plot(history.history['val_loss'])\n",
        "plt.title('Model Loss')\n",
        "plt.ylabel('Loss')\n",
        "plt.xlabel('Epoch')\n",
        "plt.legend(['Train', 'Test'], loc='upper left')\n",
        "plt.show()"
      ],
      "metadata": {
        "colab": {
          "base_uri": "https://localhost:8080/",
          "height": 366
        },
        "id": "LOWPeUTIRXTC",
        "outputId": "dbafd999-1a13-4c7a-a2c4-4ba81c4a795c"
      },
      "execution_count": 74,
      "outputs": [
        {
          "output_type": "stream",
          "name": "stdout",
          "text": [
            "Epoch 1/5\n",
            "9200/9200 [==============================] - 22s 2ms/step - loss: 0.8345 - mse: 0.8345 - val_loss: 0.8387 - val_mse: 0.8387\n",
            "Epoch 2/5\n",
            "9200/9200 [==============================] - 22s 2ms/step - loss: 0.8285 - mse: 0.8285 - val_loss: 0.8391 - val_mse: 0.8391\n"
          ]
        },
        {
          "output_type": "display_data",
          "data": {
            "text/plain": [
              "<Figure size 432x288 with 1 Axes>"
            ],
            "image/png": "[encoded data removed]"
          },
          "metadata": {
            "needs_background": "light"
          }
        }
      ]
    },
    {
      "cell_type": "code",
      "source": [
        "train_predicted_x = autoencoder.predict(x=X)\n",
        "train_events_mse = keras.losses.mean_squared_error(X, train_predicted_x)\n",
        "cut_off = np.percentile(train_events_mse, 95)\n",
        "print(cut_off)"
      ],
      "metadata": {
        "colab": {
          "base_uri": "https://localhost:8080/"
        },
        "id": "7gHp47MgSz_0",
        "outputId": "9303938a-b20d-495c-c0ed-f8822a9d1e2b"
      },
      "execution_count": 75,
      "outputs": [
        {
          "output_type": "stream",
          "name": "stdout",
          "text": [
            "1.5925137042999264\n"
          ]
        }
      ]
    },
    {
      "cell_type": "code",
      "source": [
        "predicted = autoencoder.predict(x=test)\n",
        "ms =  keras.losses.mean_squared_error(test, predicted)\n",
        "\n",
        "test_df = pd.DataFrame(test.copy(), columns=test.columns)\n",
        "print(test_df.columns)\n",
        "test_df['Target'] = y_test.values\n",
        "test_df['MSE'] = ms\n",
        "test_df['Outlier'] = test_df['MSE'] > cut_off\n",
        "test_df['Outlier'].value_counts()"
      ],
      "metadata": {
        "colab": {
          "base_uri": "https://localhost:8080/"
        },
        "id": "5tes78j5S9eU",
        "outputId": "615c45de-e663-4ce8-cc16-dac0f5dd50bf"
      },
      "execution_count": 76,
      "outputs": [
        {
          "output_type": "stream",
          "name": "stdout",
          "text": [
            "Index(['p (mbar)', 'Tpot (K)', 'Tdew (degC)', 'rh (%)', 'VPmax (mbar)',\n",
            "       'VPact (mbar)', 'VPdef (mbar)', 'sh (g/kg)', 'H2OC (mmol/mol)',\n",
            "       'rho (g/m**3)', 'wv (m/s)', 'max. wv (m/s)', 'wd (deg)', 'Year',\n",
            "       'Month', 'Day', 'Hour', 'Minute'],\n",
            "      dtype='object')\n"
          ]
        },
        {
          "output_type": "execute_result",
          "data": {
            "text/plain": [
              "False    119657\n",
              "True       6509\n",
              "Name: Outlier, dtype: int64"
            ]
          },
          "metadata": {},
          "execution_count": 76
        }
      ]
    },
    {
      "cell_type": "code",
      "source": [
        "\n",
        "\n",
        "scikitplot.metrics.plot_confusion_matrix(test_df['Target'] == 1,test_df['Outlier'], normalize=False)\n",
        "scikitplot.metrics.plot_confusion_matrix(test_df['Target'] == 1,test_df['Outlier'], normalize=True)\n"
      ],
      "metadata": {
        "colab": {
          "base_uri": "https://localhost:8080/",
          "height": 591
        },
        "id": "6gGnyYgNS8EI",
        "outputId": "13837789-35de-4fa1-9c2e-5f4d33a0a6b0"
      },
      "execution_count": 77,
      "outputs": [
        {
          "output_type": "execute_result",
          "data": {
            "text/plain": [
              "<matplotlib.axes._subplots.AxesSubplot at 0x7f0ccdf59310>"
            ]
          },
          "metadata": {},
          "execution_count": 77
        },
        {
          "output_type": "display_data",
          "data": {
            "text/plain": [
              "<Figure size 432x288 with 2 Axes>"
            ],
            "image/png": "[encoded data removed]"
          },
          "metadata": {
            "needs_background": "light"
          }
        },
        {
          "output_type": "display_data",
          "data": {
            "text/plain": [
              "<Figure size 432x288 with 2 Axes>"
            ],
            "image/png": "[encoded data removed]"
          },
          "metadata": {
            "needs_background": "light"
          }
        }
      ]
    }
  ],
  "metadata": {
    "kernelspec": {
      "display_name": "Python 3 (ipykernel)",
      "language": "python",
      "name": "python3"
    },
    "language_info": {
      "codemirror_mode": {
        "name": "ipython",
        "version": 3
      },
      "file_extension": ".py",
      "mimetype": "text/x-python",
      "name": "python",
      "nbconvert_exporter": "python",
      "pygments_lexer": "ipython3",
      "version": "3.9.7"
    },
    "colab": {
      "name": "FinalAutoencoderTemplate.ipynb",
      "provenance": []
    }
  },
  "nbformat": 4,
  "nbformat_minor": 0
}